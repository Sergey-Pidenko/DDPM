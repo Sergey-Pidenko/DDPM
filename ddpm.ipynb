{
 "cells": [
  {
   "cell_type": "code",
   "execution_count": 65,
   "metadata": {},
   "outputs": [],
   "source": [
    "import torch\n",
    "import torch.nn as nn\n",
    "import torch.nn.functional as F\n",
    "import torch.optim as optim\n",
    "from torch.utils.data import DataLoader, random_split\n",
    "from tqdm import tqdm\n",
    "\n",
    "import VAE, DDPM, DataReader, Noise"
   ]
  },
  {
   "cell_type": "code",
   "execution_count": 47,
   "metadata": {},
   "outputs": [
    {
     "name": "stdout",
     "output_type": "stream",
     "text": [
      "torch.Size([1, 3, 128, 128])\n"
     ]
    }
   ],
   "source": [
    "# Параметры\n",
    "high_res_dir = '/Users/sergei0000/.cache/kagglehub/datasets/arnaud58/flickrfaceshq-dataset-ffhq/versions/1'\n",
    "batch_size = 1\n",
    "num_workers = 0\n",
    "\n",
    "dataset = DataReader.SuperResolutionDataset(high_res_dir)\n",
    "# Определяем размеры разбиений\n",
    "train_size = 8  # int(0.8 * len(dataset))\n",
    "val_size = 1  # int(0.1 * len(dataset))\n",
    "test_size = 1   # len(dataset) - train_size - val_size\n",
    "\n",
    "# Разбиваем набор данных\n",
    "train_dataset, val_dataset, test_dataset = random_split(dataset, [train_size, val_size, test_size])\n",
    "\n",
    "# Создаем DataLoader для каждой выборки\n",
    "train_loader = DataLoader(train_dataset, batch_size=batch_size, shuffle=True, num_workers=num_workers)\n",
    "val_loader = DataLoader(val_dataset, batch_size=batch_size, shuffle=False, num_workers=num_workers)\n",
    "test_loader = DataLoader(test_dataset, batch_size=batch_size, shuffle=False, num_workers=num_workers)\n",
    "\n",
    "# Проверка даталоадера\n",
    "for low_res, high_res in train_loader:\n",
    "    print(low_res.shape)\n",
    "    break"
   ]
  },
  {
   "cell_type": "code",
   "execution_count": 31,
   "metadata": {},
   "outputs": [
    {
     "name": "stderr",
     "output_type": "stream",
     "text": [
      "/var/folders/y_/4rxclcsx24j5ml85f8vwlbgr0000gn/T/ipykernel_18151/3702707538.py:3: FutureWarning: You are using `torch.load` with `weights_only=False` (the current default value), which uses the default pickle module implicitly. It is possible to construct malicious pickle data which will execute arbitrary code during unpickling (See https://github.com/pytorch/pytorch/blob/main/SECURITY.md#untrusted-models for more details). In a future release, the default value for `weights_only` will be flipped to `True`. This limits the functions that could be executed during unpickling. Arbitrary objects will no longer be allowed to be loaded via this mode unless they are explicitly allowlisted by the user via `torch.serialization.add_safe_globals`. We recommend you start setting `weights_only=True` for any use case where you don't have full control of the loaded file. Please open an issue on GitHub for any issues related to this experimental feature.\n",
      "  vae.load_state_dict(torch.load(\"best_model_VAE.pth\", map_location=torch.device('cpu')))\n"
     ]
    },
    {
     "name": "stdout",
     "output_type": "stream",
     "text": [
      "Output shape: torch.Size([4, 3, 512, 512])\n"
     ]
    }
   ],
   "source": [
    "vae = VAE.VAEUNet(latent_dim=1024, bilinear=True)\n",
    "# Загружаем сохранённые веса в модель\n",
    "vae.load_state_dict(torch.load(\"best_model_VAE.pth\", map_location=torch.device('cpu')))\n",
    "# Переводим модель в режим оценки\n",
    "vae.eval()\n",
    "\n",
    "input_tensor = torch.randn(4, 3, 128, 128)\n",
    "output, mu, logvar = vae(input_tensor)\n",
    "print(\"Output shape:\", output.shape)  # должно выводить (4, 3, 512, 512)"
   ]
  },
  {
   "cell_type": "code",
   "execution_count": 33,
   "metadata": {},
   "outputs": [
    {
     "name": "stdout",
     "output_type": "stream",
     "text": [
      "torch.Size([4, 3, 512, 512])\n"
     ]
    }
   ],
   "source": [
    "ddpm = DDPM.UNet(in_channels=3, out_channels=3, num_layers=4)\n",
    "x, _, _  = vae(input_tensor)\n",
    "output = ddpm(x)\n",
    "print(output.shape)  # Ожидаемое: torch.Size([1, 3, 512, 512])\n"
   ]
  },
  {
   "cell_type": "code",
   "execution_count": 51,
   "metadata": {},
   "outputs": [
    {
     "data": {
      "text/plain": [
       "torch.Size([4, 6, 512, 512])"
      ]
     },
     "execution_count": 51,
     "metadata": {},
     "output_type": "execute_result"
    }
   ],
   "source": [
    "res = torch.concat([output, x], dim=1)\n",
    "res.shape"
   ]
  },
  {
   "cell_type": "code",
   "execution_count": 53,
   "metadata": {},
   "outputs": [
    {
     "data": {
      "text/plain": [
       "torch.Size([1, 3, 512, 512])"
      ]
     },
     "execution_count": 53,
     "metadata": {},
     "output_type": "execute_result"
    }
   ],
   "source": [
    "high_res.shape"
   ]
  },
  {
   "cell_type": "code",
   "execution_count": 63,
   "metadata": {},
   "outputs": [
    {
     "data": {
      "text/plain": [
       "torch.Size([1, 6, 512, 512])"
      ]
     },
     "execution_count": 63,
     "metadata": {},
     "output_type": "execute_result"
    }
   ],
   "source": [
    "batch_size = 1\n",
    "# Исходные изображения\n",
    "x_start = high_res\n",
    "\n",
    "# Количество шагов\n",
    "T = 1000\n",
    "\n",
    "# Настройка бета (variance schedule) от 1e-4 до 0.02 в течение T шагов\n",
    "betas = torch.linspace(1e-4, 0.02, T)\n",
    "\n",
    "# Пример генерации зашумленного изображения на случайном шаге t\n",
    "t = torch.randint(0, T, (batch_size,), dtype=torch.long)\n",
    "noisy_images, noise = Noise.q_sample(x_start, t, betas)\n",
    "\n",
    "noisy_images.shape\n",
    "\n",
    "cond, _, _ = vae(low_res)\n",
    "cond.shape\n",
    "\n",
    "inp = torch.concat([noisy_images, cond], dim=1)\n",
    "inp.shape"
   ]
  },
  {
   "cell_type": "code",
   "execution_count": 68,
   "metadata": {},
   "outputs": [],
   "source": [
    "def train(model, cond_model, train_loader, optimizer, loss_fn, device):\n",
    "    model.train()\n",
    "    for low_res, high_res in tqdm(train_loader, desc=\"Training\"):\n",
    "        t = torch.randint(0, T, (batch_size,), dtype=torch.long)\n",
    "        noisy_images, noise = Noise.q_sample(x_start, t, betas)\n",
    "\n",
    "        low_res, high_res = low_res.to(device), high_res.to(device)\n",
    "        noisy_images, noise = noisy_images.to(device), noise.to(device)\n",
    "        \n",
    "        cond, _, _ = cond_model(low_res)\n",
    "\n",
    "        inp = torch.concat([noisy_images, cond], dim=1)\n",
    "        \n",
    "        optimizer.zero_grad()\n",
    "        # Прямой проход\n",
    "        outputs = model(inp)\n",
    "        # Вычисление потери\n",
    "        loss = loss_fn(outputs, noise)\n",
    "        # Назад и оптимизация\n",
    "        loss.backward()\n",
    "        optimizer.step()\n",
    "        torch.cuda.empty_cache()\n",
    "\n",
    "def validate(model, cond_model, val_loader, loss_fn, device):\n",
    "    model.eval()\n",
    "    val_loss = 0.0\n",
    "    with torch.no_grad():\n",
    "        for low_res, high_res in tqdm(val_loader, desc=\"Validation\"):\n",
    "            t = torch.randint(0, T, (batch_size,), dtype=torch.long)\n",
    "            noisy_images, noise = Noise.q_sample(x_start, t, betas)\n",
    "\n",
    "            low_res, high_res = low_res.to(device), high_res.to(device)\n",
    "            noisy_images, noise = noisy_images.to(device), noise.to(device)\n",
    "            \n",
    "            cond, _, _ = cond_model(low_res)\n",
    "\n",
    "            inp = torch.concat([noisy_images, cond], dim=1)\n",
    "            \n",
    "            # Прямой проход\n",
    "            outputs = model(inp)\n",
    "            # Вычисление потери\n",
    "            val_loss += loss_fn(outputs, noise).item()\n",
    "\n",
    "    return val_loss / len(val_loader)"
   ]
  },
  {
   "cell_type": "code",
   "execution_count": 69,
   "metadata": {},
   "outputs": [
    {
     "name": "stderr",
     "output_type": "stream",
     "text": [
      "Training: 100%|██████████| 8/8 [00:28<00:00,  3.62s/it]\n",
      "Validation: 100%|██████████| 8/8 [00:09<00:00,  1.23s/it]\n",
      "Validation: 100%|██████████| 1/1 [00:01<00:00,  1.25s/it]\n"
     ]
    },
    {
     "name": "stdout",
     "output_type": "stream",
     "text": [
      "Epoch [1/2], Train Loss: 0.9950, Validation Loss: 0.9955\n"
     ]
    },
    {
     "name": "stderr",
     "output_type": "stream",
     "text": [
      "Training: 100%|██████████| 8/8 [00:29<00:00,  3.65s/it]\n",
      "Validation: 100%|██████████| 8/8 [00:09<00:00,  1.23s/it]\n",
      "Validation: 100%|██████████| 1/1 [00:01<00:00,  1.26s/it]"
     ]
    },
    {
     "name": "stdout",
     "output_type": "stream",
     "text": [
      "Epoch [2/2], Train Loss: 0.9822, Validation Loss: 0.9773\n"
     ]
    },
    {
     "name": "stderr",
     "output_type": "stream",
     "text": [
      "\n"
     ]
    }
   ],
   "source": [
    "# Параметры обучения\n",
    "\n",
    "# Количество шагов\n",
    "T = 1000\n",
    "# Настройка бета (variance schedule) от 1e-4 до 0.02 в течение T шагов\n",
    "betas = torch.linspace(1e-4, 0.02, T)\n",
    "\n",
    "epochs = 2\n",
    "learning_rate = 0.0001\n",
    "device = torch.device('cuda' if torch.cuda.is_available() else 'cpu')\n",
    "\n",
    "# Инициализация модели\n",
    "ddpm = DDPM.UNet(in_channels=6, out_channels=3, num_layers=4)\n",
    "\n",
    "# Функции потерь\n",
    "reconstruction_loss_fn = nn.MSELoss()\n",
    "\n",
    "# Оптимизатор\n",
    "optimizer = optim.Adam(ddpm.parameters(), lr=learning_rate)\n",
    "\n",
    "best_val_loss = float('inf')  # Инициализация лучшего значения валидационной потери\n",
    "best_model_path = 'best_model_VAE.pth'  # Путь для сохранения лучшей модели\n",
    "\n",
    "for epoch in range(1, epochs + 1):\n",
    "    train(ddpm, vae, train_loader, optimizer, reconstruction_loss_fn, device)\n",
    "    train_loss = validate(ddpm, vae, train_loader, reconstruction_loss_fn, device)\n",
    "    val_loss = validate(ddpm, vae, val_loader, reconstruction_loss_fn, device)\n",
    "    print(f'Epoch [{epoch}/{epochs}], Train Loss: {train_loss:.4f}, Validation Loss: {val_loss:.4f}')\n",
    "    \n",
    "    # # Сохранение модели, если валидационная потеря улучшилась\n",
    "    # if val_loss < best_val_loss:\n",
    "    #     best_val_loss = val_loss\n",
    "    #     torch.save(model.state_dict(), best_model_path)\n",
    "    #     print(f'Model saved at epoch {epoch} with validation loss: {val_loss:.4f}')"
   ]
  }
 ],
 "metadata": {
  "kernelspec": {
   "display_name": "Python 3",
   "language": "python",
   "name": "python3"
  },
  "language_info": {
   "codemirror_mode": {
    "name": "ipython",
    "version": 3
   },
   "file_extension": ".py",
   "mimetype": "text/x-python",
   "name": "python",
   "nbconvert_exporter": "python",
   "pygments_lexer": "ipython3",
   "version": "3.9.6"
  }
 },
 "nbformat": 4,
 "nbformat_minor": 2
}
