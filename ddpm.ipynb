{
 "cells": [
  {
   "cell_type": "code",
   "execution_count": 1,
   "id": "70f763ab",
   "metadata": {
    "execution": {
     "iopub.execute_input": "2025-03-12T12:28:57.429077Z",
     "iopub.status.busy": "2025-03-12T12:28:57.428795Z",
     "iopub.status.idle": "2025-03-12T12:29:05.985034Z",
     "shell.execute_reply": "2025-03-12T12:29:05.984195Z"
    },
    "papermill": {
     "duration": 8.560807,
     "end_time": "2025-03-12T12:29:05.986331",
     "exception": false,
     "start_time": "2025-03-12T12:28:57.425524",
     "status": "completed"
    },
    "tags": []
   },
   "outputs": [],
   "source": [
    "!wget 'https://raw.githubusercontent.com/Sergey-Pidenko/DDPM/refs/heads/main/DDPM.py' -O 'DDPM.py';\n",
    "!wget 'https://raw.githubusercontent.com/Sergey-Pidenko/DDPM/refs/heads/main/VAE.py' -O 'VAE.py';\n",
    "!wget 'https://raw.githubusercontent.com/Sergey-Pidenko/DDPM/refs/heads/main/DataReader.py' -O 'DataReader.py';\n",
    "!wget 'https://raw.githubusercontent.com/Sergey-Pidenko/DDPM/refs/heads/main/Noise.py' -O 'Noise.py';\n",
    "\n",
    "from IPython.display import clear_output\n",
    "import torch\n",
    "import torch.nn as nn\n",
    "import torch.nn.functional as F\n",
    "import torch.optim as optim\n",
    "from torch.utils.data import DataLoader, random_split\n",
    "from tqdm import tqdm\n",
    "import kagglehub\n",
    "import gc\n",
    "\n",
    "import VAE, DDPM, DataReader, Noise\n",
    "\n",
    "clear_output()"
   ]
  },
  {
   "cell_type": "code",
   "execution_count": 2,
   "id": "2514bc91",
   "metadata": {
    "execution": {
     "iopub.execute_input": "2025-03-12T12:29:05.991684Z",
     "iopub.status.busy": "2025-03-12T12:29:05.991318Z",
     "iopub.status.idle": "2025-03-12T12:29:12.391935Z",
     "shell.execute_reply": "2025-03-12T12:29:12.391154Z"
    },
    "papermill": {
     "duration": 6.404742,
     "end_time": "2025-03-12T12:29:12.393480",
     "exception": false,
     "start_time": "2025-03-12T12:29:05.988738",
     "status": "completed"
    },
    "tags": []
   },
   "outputs": [],
   "source": [
    "# seed\n",
    "SEED = 42\n",
    "# Параметры\n",
    "high_res_dir = kagglehub.dataset_download(\"arnaud58/flickrfaceshq-dataset-ffhq\")\n",
    "batch_size = 8\n",
    "num_workers = 4\n",
    "\n",
    "# Количество шагов\n",
    "T = 1000\n",
    "# Настройка бета (variance schedule) от 1e-4 до 0.02 в течение T шагов\n",
    "betas = torch.linspace(1e-4, 0.02, T)\n",
    "\n",
    "# Параметры модели DDPM\n",
    "epochs = 10\n",
    "learning_rate = 0.0001\n",
    "device = torch.device('cuda' if torch.cuda.is_available() else 'cpu')\n",
    "\n",
    "best_val_loss = float('inf')  # Инициализация лучшего значения валидационной потери\n",
    "best_model_path = 'best_model_DDPM.pth'  # Путь для сохранения лучшей модели\n",
    "ddpm_input_path = '/kaggle/input/ddpm-v1/pytorch/default/2/best_model_DDPM-2.pth'\n",
    "vae_input_path = \"/kaggle/input/best_model_vae/pytorch/default/1/best_model_VAE.pth\"\n",
    "\n",
    "# Загружаем модель\n",
    "vae = VAE.VAEUNet(latent_dim=1024, bilinear=True)\n",
    "# Загружаем сохранённые веса в модель\n",
    "vae.load_state_dict(torch.load(vae_input_path, map_location=device, weights_only=True))\n",
    "vae = vae.to(device)\n",
    "# Переводим модель в режим оценки\n",
    "vae.eval();\n",
    "\n",
    "# Инициализация модели\n",
    "ddpm = DDPM.UNet(in_channels=7, out_channels=3, num_layers=4).to(device)\n",
    "ddpm.load_state_dict(torch.load(ddpm_input_path, map_location=device, weights_only=True))\n",
    "ddpm = ddpm.to(device)\n",
    "\n",
    "# Функции потерь\n",
    "reconstruction_loss_fn = nn.MSELoss()\n",
    "\n",
    "# Оптимизатор\n",
    "optimizer = optim.Adam(ddpm.parameters(), lr=learning_rate)"
   ]
  },
  {
   "cell_type": "code",
   "execution_count": 3,
   "id": "1d519ea5",
   "metadata": {
    "execution": {
     "iopub.execute_input": "2025-03-12T12:29:12.398441Z",
     "iopub.status.busy": "2025-03-12T12:29:12.398173Z",
     "iopub.status.idle": "2025-03-12T12:29:12.817730Z",
     "shell.execute_reply": "2025-03-12T12:29:12.817033Z"
    },
    "papermill": {
     "duration": 0.423512,
     "end_time": "2025-03-12T12:29:12.819230",
     "exception": false,
     "start_time": "2025-03-12T12:29:12.395718",
     "status": "completed"
    },
    "tags": []
   },
   "outputs": [],
   "source": [
    "torch.manual_seed(SEED)\n",
    "\n",
    "dataset = DataReader.SuperResolutionDataset(dir=high_res_dir, size=10000)\n",
    "# Определяем размеры разбиений\n",
    "train_size = int(0.8 * len(dataset))\n",
    "val_size = int(0.1 * len(dataset))\n",
    "test_size = len(dataset) - train_size - val_size\n",
    "\n",
    "# Разбиваем набор данных\n",
    "train_dataset, val_dataset, test_dataset = random_split(dataset, [train_size, val_size, test_size])\n",
    "\n",
    "# Создаем DataLoader для каждой выборки\n",
    "train_loader = DataLoader(train_dataset, batch_size=batch_size, shuffle=True, num_workers=num_workers)\n",
    "val_loader = DataLoader(val_dataset, batch_size=batch_size, shuffle=False, num_workers=num_workers)\n",
    "test_loader = DataLoader(test_dataset, batch_size=batch_size, shuffle=False, num_workers=num_workers)"
   ]
  },
  {
   "cell_type": "code",
   "execution_count": 4,
   "id": "2e940464",
   "metadata": {
    "execution": {
     "iopub.execute_input": "2025-03-12T12:29:12.824174Z",
     "iopub.status.busy": "2025-03-12T12:29:12.823949Z",
     "iopub.status.idle": "2025-03-12T12:29:12.828073Z",
     "shell.execute_reply": "2025-03-12T12:29:12.827467Z"
    },
    "papermill": {
     "duration": 0.007979,
     "end_time": "2025-03-12T12:29:12.829357",
     "exception": false,
     "start_time": "2025-03-12T12:29:12.821378",
     "status": "completed"
    },
    "tags": []
   },
   "outputs": [],
   "source": [
    "def time_condition(tensor, shape=(512, 512)):\n",
    "    batch_size = tensor.size(0)\n",
    "    # Генерируем все необходимые seed\n",
    "    seeds = tensor.unsqueeze(1).unsqueeze(2).expand(batch_size, *shape)\n",
    "    # Создаем тензор случайных чисел\n",
    "    generated_tensors = torch.empty((batch_size, *shape))\n",
    "    \n",
    "    for i in range(batch_size):\n",
    "        torch.manual_seed(tensor[i].item())\n",
    "        generated_tensors[i] = torch.rand(*shape)\n",
    "        \n",
    "    return generated_tensors.unsqueeze(1)"
   ]
  },
  {
   "cell_type": "code",
   "execution_count": 5,
   "id": "cc8c9eea",
   "metadata": {
    "execution": {
     "iopub.execute_input": "2025-03-12T12:29:12.833719Z",
     "iopub.status.busy": "2025-03-12T12:29:12.833518Z",
     "iopub.status.idle": "2025-03-12T12:29:12.842051Z",
     "shell.execute_reply": "2025-03-12T12:29:12.841447Z"
    },
    "papermill": {
     "duration": 0.011913,
     "end_time": "2025-03-12T12:29:12.843175",
     "exception": false,
     "start_time": "2025-03-12T12:29:12.831262",
     "status": "completed"
    },
    "tags": []
   },
   "outputs": [],
   "source": [
    "def train(model, cond_model, train_loader, optimizer, loss_fn, device):\n",
    "    model.train()\n",
    "    for low_res, high_res in tqdm(train_loader, desc=\"Training\"):\n",
    "        t = torch.randint(0, T, (batch_size,), dtype=torch.long)\n",
    "        noisy_images, noise = Noise.q_sample(high_res, t, betas)\n",
    "\n",
    "        low_res, high_res = low_res.to(device), high_res.to(device)\n",
    "        noisy_images, noise = noisy_images.to(device), noise.to(device)\n",
    "        t_cond = time_condition(tensor=t).to(device)\n",
    "        \n",
    "        cond, _, _ = cond_model(low_res)\n",
    "\n",
    "        inp = torch.concat([noisy_images, cond, t_cond], dim=1)\n",
    "        \n",
    "        optimizer.zero_grad()\n",
    "        # Прямой проход\n",
    "        outputs = model(inp)\n",
    "        # Вычисление потери\n",
    "        loss = loss_fn(outputs, noise)\n",
    "        # Назад и оптимизация\n",
    "        loss.backward()\n",
    "        optimizer.step()\n",
    "        torch.cuda.empty_cache()\n",
    "        gc.collect()\n",
    "\n",
    "def validate(model, cond_model, val_loader, loss_fn, device):\n",
    "    model.eval()\n",
    "    val_loss = 0.0\n",
    "    with torch.no_grad():\n",
    "        for low_res, high_res in tqdm(val_loader, desc=\"Validation\"):\n",
    "            t = torch.randint(0, T, (batch_size,), dtype=torch.long)\n",
    "            noisy_images, noise = Noise.q_sample(high_res, t, betas)\n",
    "\n",
    "            low_res, high_res = low_res.to(device), high_res.to(device)\n",
    "            noisy_images, noise = noisy_images.to(device), noise.to(device)\n",
    "            t_cond = time_condition(tensor=t).to(device)\n",
    "            \n",
    "            cond, _, _ = cond_model(low_res)\n",
    "\n",
    "            inp = torch.concat([noisy_images, cond, t_cond], dim=1)\n",
    "            \n",
    "            # Прямой проход\n",
    "            outputs = model(inp)\n",
    "            # Вычисление потери\n",
    "            val_loss += loss_fn(outputs, noise).item()\n",
    "            torch.cuda.empty_cache()\n",
    "            gc.collect()\n",
    "\n",
    "    return val_loss / len(val_loader)"
   ]
  },
  {
   "cell_type": "code",
   "execution_count": 6,
   "id": "e6549920",
   "metadata": {
    "execution": {
     "iopub.execute_input": "2025-03-12T12:29:12.847493Z",
     "iopub.status.busy": "2025-03-12T12:29:12.847242Z",
     "iopub.status.idle": "2025-03-12T20:44:24.522664Z",
     "shell.execute_reply": "2025-03-12T20:44:24.521538Z"
    },
    "papermill": {
     "duration": 29711.679146,
     "end_time": "2025-03-12T20:44:24.524152",
     "exception": false,
     "start_time": "2025-03-12T12:29:12.845006",
     "status": "completed"
    },
    "tags": []
   },
   "outputs": [
    {
     "name": "stderr",
     "output_type": "stream",
     "text": [
      "Training: 100%|██████████| 1000/1000 [42:33<00:00,  2.55s/it]\n",
      "Validation: 100%|██████████| 1000/1000 [16:58<00:00,  1.02s/it]\n",
      "Validation: 100%|██████████| 125/125 [02:06<00:00,  1.02s/it]\n"
     ]
    },
    {
     "name": "stdout",
     "output_type": "stream",
     "text": [
      "Epoch [3/10], Train Loss: 0.0260, Validation Loss: 0.0253\n",
      "Model saved at epoch 3 with validation loss: 0.0253\n"
     ]
    },
    {
     "name": "stderr",
     "output_type": "stream",
     "text": [
      "Training: 100%|██████████| 1000/1000 [42:46<00:00,  2.57s/it]\n",
      "Validation: 100%|██████████| 1000/1000 [16:57<00:00,  1.02s/it]\n",
      "Validation: 100%|██████████| 125/125 [02:07<00:00,  1.02s/it]\n"
     ]
    },
    {
     "name": "stdout",
     "output_type": "stream",
     "text": [
      "Epoch [4/10], Train Loss: 0.0293, Validation Loss: 0.0282\n"
     ]
    },
    {
     "name": "stderr",
     "output_type": "stream",
     "text": [
      "Training: 100%|██████████| 1000/1000 [42:47<00:00,  2.57s/it]\n",
      "Validation: 100%|██████████| 1000/1000 [16:58<00:00,  1.02s/it]\n",
      "Validation: 100%|██████████| 125/125 [02:07<00:00,  1.02s/it]\n"
     ]
    },
    {
     "name": "stdout",
     "output_type": "stream",
     "text": [
      "Epoch [5/10], Train Loss: 0.0231, Validation Loss: 0.0219\n",
      "Model saved at epoch 5 with validation loss: 0.0219\n"
     ]
    },
    {
     "name": "stderr",
     "output_type": "stream",
     "text": [
      "Training: 100%|██████████| 1000/1000 [42:44<00:00,  2.56s/it]\n",
      "Validation: 100%|██████████| 1000/1000 [17:06<00:00,  1.03s/it]\n",
      "Validation: 100%|██████████| 125/125 [02:08<00:00,  1.03s/it]\n"
     ]
    },
    {
     "name": "stdout",
     "output_type": "stream",
     "text": [
      "Epoch [6/10], Train Loss: 0.0239, Validation Loss: 0.0228\n"
     ]
    },
    {
     "name": "stderr",
     "output_type": "stream",
     "text": [
      "Training: 100%|██████████| 1000/1000 [42:51<00:00,  2.57s/it]\n",
      "Validation: 100%|██████████| 1000/1000 [17:05<00:00,  1.03s/it]\n",
      "Validation: 100%|██████████| 125/125 [02:08<00:00,  1.03s/it]\n"
     ]
    },
    {
     "name": "stdout",
     "output_type": "stream",
     "text": [
      "Epoch [7/10], Train Loss: 0.0210, Validation Loss: 0.0198\n",
      "Model saved at epoch 7 with validation loss: 0.0198\n"
     ]
    },
    {
     "name": "stderr",
     "output_type": "stream",
     "text": [
      "Training: 100%|██████████| 1000/1000 [42:47<00:00,  2.57s/it]\n",
      "Validation: 100%|██████████| 1000/1000 [17:03<00:00,  1.02s/it]\n",
      "Validation: 100%|██████████| 125/125 [02:08<00:00,  1.03s/it]\n"
     ]
    },
    {
     "name": "stdout",
     "output_type": "stream",
     "text": [
      "Epoch [8/10], Train Loss: 0.0195, Validation Loss: 0.0183\n",
      "Model saved at epoch 8 with validation loss: 0.0183\n"
     ]
    },
    {
     "name": "stderr",
     "output_type": "stream",
     "text": [
      "Training: 100%|██████████| 1000/1000 [42:42<00:00,  2.56s/it]\n",
      "Validation: 100%|██████████| 1000/1000 [17:02<00:00,  1.02s/it]\n",
      "Validation: 100%|██████████| 125/125 [02:07<00:00,  1.02s/it]\n"
     ]
    },
    {
     "name": "stdout",
     "output_type": "stream",
     "text": [
      "Epoch [9/10], Train Loss: 0.0185, Validation Loss: 0.0172\n",
      "Model saved at epoch 9 with validation loss: 0.0172\n"
     ]
    },
    {
     "name": "stderr",
     "output_type": "stream",
     "text": [
      "Training: 100%|██████████| 1000/1000 [42:39<00:00,  2.56s/it]\n",
      "Validation: 100%|██████████| 1000/1000 [17:01<00:00,  1.02s/it]\n",
      "Validation: 100%|██████████| 125/125 [02:08<00:00,  1.03s/it]"
     ]
    },
    {
     "name": "stdout",
     "output_type": "stream",
     "text": [
      "Epoch [10/10], Train Loss: 0.0216, Validation Loss: 0.0203\n"
     ]
    },
    {
     "name": "stderr",
     "output_type": "stream",
     "text": [
      "\n"
     ]
    }
   ],
   "source": [
    "for epoch in range(3, epochs + 1):\n",
    "    train(ddpm, vae, train_loader, optimizer, reconstruction_loss_fn, device)\n",
    "    train_loss = validate(ddpm, vae, train_loader, reconstruction_loss_fn, device)\n",
    "    val_loss = validate(ddpm, vae, val_loader, reconstruction_loss_fn, device)\n",
    "    print(f'Epoch [{epoch}/{epochs}], Train Loss: {train_loss:.4f}, Validation Loss: {val_loss:.4f}')\n",
    "\n",
    "    # Сохранение модели, если валидационная потеря улучшилась\n",
    "    if val_loss < best_val_loss:\n",
    "        best_val_loss = val_loss\n",
    "        torch.save(ddpm.state_dict(), best_model_path)\n",
    "        print(f'Model saved at epoch {epoch} with validation loss: {val_loss:.4f}')"
   ]
  }
 ],
 "metadata": {
  "kaggle": {
   "accelerator": "nvidiaTeslaT4",
   "dataSources": [
    {
     "datasetId": 546691,
     "sourceId": 997012,
     "sourceType": "datasetVersion"
    },
    {
     "isSourceIdPinned": true,
     "modelId": 262486,
     "modelInstanceId": 240841,
     "sourceId": 281095,
     "sourceType": "modelInstanceVersion"
    },
    {
     "isSourceIdPinned": true,
     "modelId": 263786,
     "modelInstanceId": 242152,
     "sourceId": 283691,
     "sourceType": "modelInstanceVersion"
    }
   ],
   "dockerImageVersionId": 30918,
   "isGpuEnabled": true,
   "isInternetEnabled": true,
   "language": "python",
   "sourceType": "notebook"
  },
  "kernelspec": {
   "display_name": "Python 3",
   "language": "python",
   "name": "python3"
  },
  "language_info": {
   "codemirror_mode": {
    "name": "ipython",
    "version": 3
   },
   "file_extension": ".py",
   "mimetype": "text/x-python",
   "name": "python",
   "nbconvert_exporter": "python",
   "pygments_lexer": "ipython3",
   "version": "3.10.12"
  },
  "papermill": {
   "default_parameters": {},
   "duration": 29732.105105,
   "end_time": "2025-03-12T20:44:26.928553",
   "environment_variables": {},
   "exception": null,
   "input_path": "__notebook__.ipynb",
   "output_path": "__notebook__.ipynb",
   "parameters": {},
   "start_time": "2025-03-12T12:28:54.823448",
   "version": "2.6.0"
  }
 },
 "nbformat": 4,
 "nbformat_minor": 5
}
