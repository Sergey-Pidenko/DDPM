{
 "cells": [
  {
   "cell_type": "code",
   "execution_count": 1,
   "id": "8f5ee897",
   "metadata": {
    "execution": {
     "iopub.execute_input": "2025-03-14T14:37:28.971052Z",
     "iopub.status.busy": "2025-03-14T14:37:28.970759Z",
     "iopub.status.idle": "2025-03-14T14:37:39.862451Z",
     "shell.execute_reply": "2025-03-14T14:37:39.861652Z"
    },
    "papermill": {
     "duration": 10.895947,
     "end_time": "2025-03-14T14:37:39.864039",
     "exception": false,
     "start_time": "2025-03-14T14:37:28.968092",
     "status": "completed"
    },
    "tags": []
   },
   "outputs": [],
   "source": [
    "!wget 'https://raw.githubusercontent.com/Sergey-Pidenko/DDPM/refs/heads/main/DDPM.py' -O 'DDPM.py';\n",
    "!wget 'https://raw.githubusercontent.com/Sergey-Pidenko/DDPM/refs/heads/main/VAE.py' -O 'VAE.py';\n",
    "!wget 'https://raw.githubusercontent.com/Sergey-Pidenko/DDPM/refs/heads/main/DataReader.py' -O 'DataReader.py';\n",
    "!wget 'https://raw.githubusercontent.com/Sergey-Pidenko/DDPM/refs/heads/main/UNet.py' -O 'UNet.py';\n",
    "\n",
    "from IPython.display import clear_output\n",
    "import torch\n",
    "import torch.nn as nn\n",
    "import torch.nn.functional as F\n",
    "import torch.optim as optim\n",
    "from torch.utils.data import DataLoader, random_split\n",
    "from tqdm import tqdm\n",
    "import kagglehub\n",
    "import gc\n",
    "\n",
    "import VAE, UNet, DDPM, DataReader\n",
    "from DDPM import q_sample, get_time_condition, train, validate, denoise_image\n",
    "clear_output()"
   ]
  },
  {
   "cell_type": "code",
   "execution_count": 2,
   "id": "e26fe61d",
   "metadata": {
    "execution": {
     "iopub.execute_input": "2025-03-14T14:37:39.869156Z",
     "iopub.status.busy": "2025-03-14T14:37:39.868746Z",
     "iopub.status.idle": "2025-03-14T14:37:46.805673Z",
     "shell.execute_reply": "2025-03-14T14:37:46.804563Z"
    },
    "papermill": {
     "duration": 6.941115,
     "end_time": "2025-03-14T14:37:46.807396",
     "exception": false,
     "start_time": "2025-03-14T14:37:39.866281",
     "status": "completed"
    },
    "tags": []
   },
   "outputs": [],
   "source": [
    "# seed\n",
    "SEED = 42\n",
    "# Параметры\n",
    "high_res_dir = kagglehub.dataset_download(\"arnaud58/flickrfaceshq-dataset-ffhq\")\n",
    "batch_size = 8\n",
    "num_workers = 4\n",
    "\n",
    "# Количество шагов\n",
    "T = 100\n",
    "# Настройка бета (variance schedule) от 1e-4 до 0.02 в течение T шагов\n",
    "betas = torch.linspace(1e-4, 0.02, T)\n",
    "\n",
    "# Параметры модели DDPM\n",
    "epochs = 10\n",
    "learning_rate = 0.0001\n",
    "device = torch.device('cuda' if torch.cuda.is_available() else 'cpu')\n",
    "\n",
    "best_val_loss = float('inf')  # Инициализация лучшего значения валидационной потери\n",
    "best_model_path = 'best_model_DDPM_3.pth'  # Путь для сохранения лучшей модели\n",
    "# ddpm_input_path = '/kaggle/input/ddpm-v1/pytorch/default/2/best_model_DDPM-2.pth'\n",
    "vae_input_path = \"/kaggle/input/best_model_vae/pytorch/default/1/best_model_VAE.pth\"\n",
    "\n",
    "# Загружаем модель\n",
    "vae = VAE.VAEUNet(latent_dim=1024, bilinear=True)\n",
    "# Загружаем сохранённые веса в модель\n",
    "vae.load_state_dict(torch.load(vae_input_path, map_location=device, weights_only=True))\n",
    "vae = vae.to(device)\n",
    "# Переводим модель в режим оценки\n",
    "vae.eval();\n",
    "\n",
    "# Инициализация модели\n",
    "ddpm = UNet.UNet(in_channels=7, out_channels=3, num_layers=4).to(device)\n",
    "# ddpm.load_state_dict(torch.load(ddpm_input_path, map_location=device, weights_only=True))\n",
    "ddpm = ddpm.to(device)\n",
    "\n",
    "# Функции потерь\n",
    "reconstruction_loss_fn = nn.MSELoss()\n",
    "\n",
    "# Оптимизатор\n",
    "optimizer = optim.Adam(ddpm.parameters(), lr=learning_rate)\n",
    "\n",
    "dataset = DataReader.SuperResolutionDataset(dir=high_res_dir, size=5000)\n",
    "# Определяем размеры разбиений\n",
    "train_size = int(0.8 * len(dataset))\n",
    "val_size = int(0.1 * len(dataset))\n",
    "test_size = len(dataset) - train_size - val_size\n",
    "\n",
    "# Разбиваем набор данных\n",
    "torch.manual_seed(SEED)\n",
    "train_dataset, val_dataset, test_dataset = random_split(dataset, [train_size, val_size, test_size])\n",
    "\n",
    "# Создаем DataLoader для каждой выборки\n",
    "train_loader = DataLoader(train_dataset, batch_size=batch_size, shuffle=True, drop_last=True, num_workers=num_workers)\n",
    "val_loader = DataLoader(val_dataset, batch_size=batch_size, shuffle=False, drop_last=True, num_workers=num_workers)\n",
    "test_loader = DataLoader(test_dataset, batch_size=batch_size, shuffle=False, drop_last=True, num_workers=num_workers)"
   ]
  },
  {
   "cell_type": "code",
   "execution_count": 3,
   "id": "f263895a",
   "metadata": {
    "execution": {
     "iopub.execute_input": "2025-03-14T14:37:46.811345Z",
     "iopub.status.busy": "2025-03-14T14:37:46.811108Z",
     "iopub.status.idle": "2025-03-14T16:54:55.259936Z",
     "shell.execute_reply": "2025-03-14T16:54:55.258748Z"
    },
    "papermill": {
     "duration": 8228.452789,
     "end_time": "2025-03-14T16:54:55.261889",
     "exception": false,
     "start_time": "2025-03-14T14:37:46.809100",
     "status": "completed"
    },
    "tags": []
   },
   "outputs": [
    {
     "name": "stdout",
     "output_type": "stream",
     "text": [
      "Epoch [1/10], Train Loss: 0.0976, Validation Loss: 0.0954\n",
      "Model saved at epoch 1 with validation loss: 0.0954\n",
      "Epoch [2/10], Train Loss: 0.0733, Validation Loss: 0.0747\n",
      "Model saved at epoch 2 with validation loss: 0.0747\n",
      "Epoch [3/10], Train Loss: 0.0615, Validation Loss: 0.0521\n",
      "Model saved at epoch 3 with validation loss: 0.0521\n",
      "Epoch [4/10], Train Loss: 0.0534, Validation Loss: 0.0491\n",
      "Model saved at epoch 4 with validation loss: 0.0491\n",
      "Epoch [5/10], Train Loss: 0.0442, Validation Loss: 0.0467\n",
      "Model saved at epoch 5 with validation loss: 0.0467\n",
      "Epoch [6/10], Train Loss: 0.0457, Validation Loss: 0.0463\n",
      "Model saved at epoch 6 with validation loss: 0.0463\n",
      "Epoch [7/10], Train Loss: 0.0416, Validation Loss: 0.0557\n",
      "Epoch [8/10], Train Loss: 0.0444, Validation Loss: 0.0400\n",
      "Model saved at epoch 8 with validation loss: 0.0400\n",
      "Epoch [9/10], Train Loss: 0.0452, Validation Loss: 0.0475\n",
      "Epoch [10/10], Train Loss: 0.0390, Validation Loss: 0.0391\n",
      "Model saved at epoch 10 with validation loss: 0.0391\n"
     ]
    }
   ],
   "source": [
    "for epoch in range(1, epochs+1):\n",
    "    train(ddpm, vae, train_loader, optimizer, reconstruction_loss_fn, device, betas, T, batch_size)\n",
    "    train_loss = validate(ddpm, vae, train_loader, reconstruction_loss_fn, device, betas, T, batch_size)\n",
    "    val_loss = validate(ddpm, vae, val_loader, reconstruction_loss_fn, device, betas, T, batch_size)\n",
    "    print(f'Epoch [{epoch}/{epochs}], Train Loss: {train_loss:.4f}, Validation Loss: {val_loss:.4f}')\n",
    "\n",
    "    # Сохранение модели, если валидационная потеря улучшилась\n",
    "    if val_loss < best_val_loss:\n",
    "        best_val_loss = val_loss\n",
    "        torch.save(ddpm.state_dict(), best_model_path)\n",
    "        print(f'Model saved at epoch {epoch} with validation loss: {val_loss:.4f}')"
   ]
  }
 ],
 "metadata": {
  "kaggle": {
   "accelerator": "gpu",
   "dataSources": [
    {
     "datasetId": 546691,
     "sourceId": 997012,
     "sourceType": "datasetVersion"
    },
    {
     "isSourceIdPinned": true,
     "modelId": 262486,
     "modelInstanceId": 240841,
     "sourceId": 281095,
     "sourceType": "modelInstanceVersion"
    },
    {
     "isSourceIdPinned": true,
     "modelId": 263786,
     "modelInstanceId": 242152,
     "sourceId": 283691,
     "sourceType": "modelInstanceVersion"
    }
   ],
   "dockerImageVersionId": 30918,
   "isGpuEnabled": true,
   "isInternetEnabled": true,
   "language": "python",
   "sourceType": "notebook"
  },
  "kernelspec": {
   "display_name": "Python 3",
   "language": "python",
   "name": "python3"
  },
  "language_info": {
   "codemirror_mode": {
    "name": "ipython",
    "version": 3
   },
   "file_extension": ".py",
   "mimetype": "text/x-python",
   "name": "python",
   "nbconvert_exporter": "python",
   "pygments_lexer": "ipython3",
   "version": "3.10.12"
  },
  "papermill": {
   "default_parameters": {},
   "duration": 8250.342717,
   "end_time": "2025-03-14T16:54:56.792614",
   "environment_variables": {},
   "exception": null,
   "input_path": "__notebook__.ipynb",
   "output_path": "__notebook__.ipynb",
   "parameters": {},
   "start_time": "2025-03-14T14:37:26.449897",
   "version": "2.6.0"
  }
 },
 "nbformat": 4,
 "nbformat_minor": 5
}
