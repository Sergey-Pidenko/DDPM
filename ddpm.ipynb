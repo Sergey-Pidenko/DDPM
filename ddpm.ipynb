{
 "cells": [
  {
   "cell_type": "code",
   "execution_count": 1,
   "id": "a1af795c",
   "metadata": {
    "execution": {
     "iopub.execute_input": "2025-03-18T08:42:37.065392Z",
     "iopub.status.busy": "2025-03-18T08:42:37.065023Z",
     "iopub.status.idle": "2025-03-18T08:42:47.996195Z",
     "shell.execute_reply": "2025-03-18T08:42:47.995520Z"
    },
    "papermill": {
     "duration": 10.935635,
     "end_time": "2025-03-18T08:42:47.997688",
     "exception": false,
     "start_time": "2025-03-18T08:42:37.062053",
     "status": "completed"
    },
    "tags": []
   },
   "outputs": [],
   "source": [
    "!wget 'https://raw.githubusercontent.com/Sergey-Pidenko/DDPM/refs/heads/main/DDPM.py' -O 'DDPM.py';\n",
    "!wget 'https://raw.githubusercontent.com/Sergey-Pidenko/DDPM/refs/heads/main/VAE.py' -O 'VAE.py';\n",
    "!wget 'https://raw.githubusercontent.com/Sergey-Pidenko/DDPM/refs/heads/main/DataReader.py' -O 'DataReader.py';\n",
    "!wget 'https://raw.githubusercontent.com/Sergey-Pidenko/DDPM/refs/heads/main/UNet.py' -O 'UNet.py';\n",
    "\n",
    "from IPython.display import clear_output\n",
    "import torch\n",
    "import torch.nn as nn\n",
    "import torch.nn.functional as F\n",
    "import torch.optim as optim\n",
    "from torch.utils.data import DataLoader, random_split\n",
    "from tqdm import tqdm\n",
    "import kagglehub\n",
    "import gc\n",
    "\n",
    "import VAE, UNet, DDPM, DataReader\n",
    "from DDPM import q_sample, get_time_condition, train, validate, denoise_image\n",
    "clear_output()"
   ]
  },
  {
   "cell_type": "code",
   "execution_count": 2,
   "id": "6283e2c2",
   "metadata": {
    "execution": {
     "iopub.execute_input": "2025-03-18T08:42:48.002172Z",
     "iopub.status.busy": "2025-03-18T08:42:48.001800Z",
     "iopub.status.idle": "2025-03-18T08:42:54.910927Z",
     "shell.execute_reply": "2025-03-18T08:42:54.910209Z"
    },
    "papermill": {
     "duration": 6.912945,
     "end_time": "2025-03-18T08:42:54.912595",
     "exception": false,
     "start_time": "2025-03-18T08:42:47.999650",
     "status": "completed"
    },
    "tags": []
   },
   "outputs": [],
   "source": [
    "# seed\n",
    "SEED = 42\n",
    "# Параметры\n",
    "high_res_dir = kagglehub.dataset_download(\"arnaud58/flickrfaceshq-dataset-ffhq\")\n",
    "batch_size = 5\n",
    "num_workers = 4\n",
    "\n",
    "# Количество шагов\n",
    "T = 500\n",
    "# Настройка бета (variance schedule) от 1e-4 до 0.02 в течение T шагов\n",
    "betas = torch.linspace(1e-4, 0.02, T)\n",
    "\n",
    "# Параметры модели DDPM\n",
    "epochs = 50\n",
    "learning_rate = 0.001\n",
    "device = torch.device('cuda' if torch.cuda.is_available() else 'cpu')\n",
    "\n",
    "best_val_loss = float('inf')  # Инициализация лучшего значения валидационной потери\n",
    "best_model_path = 'best_model_DDPM_4.pth'  # Путь для сохранения лучшей модели\n",
    "# ddpm_input_path = '/kaggle/input/ddpm-v1/pytorch/default/2/best_model_DDPM-2.pth'\n",
    "vae_input_path = \"/kaggle/input/best_model_vae/pytorch/default/1/best_model_VAE.pth\"\n",
    "\n",
    "# Загружаем модель\n",
    "vae = VAE.VAEUNet(latent_dim=1024, bilinear=True)\n",
    "# Загружаем сохранённые веса в модель\n",
    "vae.load_state_dict(torch.load(vae_input_path, map_location=device, weights_only=True))\n",
    "vae = vae.to(device)\n",
    "# Переводим модель в режим оценки\n",
    "vae.eval();\n",
    "\n",
    "# Инициализация модели\n",
    "ddpm = UNet.UNet(in_channels=7, out_channels=3, num_layers=4).to(device)\n",
    "# ddpm.load_state_dict(torch.load(ddpm_input_path, map_location=device, weights_only=True))\n",
    "ddpm = ddpm.to(device)\n",
    "\n",
    "# Функции потерь\n",
    "reconstruction_loss_fn = nn.MSELoss()\n",
    "\n",
    "# Оптимизатор\n",
    "optimizer = optim.Adam(ddpm.parameters(), lr=learning_rate)\n",
    "\n",
    "dataset = DataReader.SuperResolutionDataset(dir=high_res_dir, size=5000)\n",
    "# Определяем размеры разбиений\n",
    "train_size = int(0.8 * len(dataset))\n",
    "val_size = int(0.1 * len(dataset))\n",
    "test_size = len(dataset) - train_size - val_size\n",
    "\n",
    "# Разбиваем набор данных\n",
    "torch.manual_seed(SEED)\n",
    "train_dataset, val_dataset, test_dataset = random_split(dataset, [train_size, val_size, test_size])\n",
    "\n",
    "# Создаем DataLoader для каждой выборки\n",
    "train_loader = DataLoader(train_dataset, batch_size=batch_size, shuffle=True, drop_last=True, num_workers=num_workers)\n",
    "val_loader = DataLoader(val_dataset, batch_size=batch_size, shuffle=False, drop_last=True, num_workers=num_workers)\n",
    "test_loader = DataLoader(test_dataset, batch_size=batch_size, shuffle=False, drop_last=True, num_workers=num_workers)"
   ]
  },
  {
   "cell_type": "code",
   "execution_count": 3,
   "id": "abe70d5f",
   "metadata": {
    "execution": {
     "iopub.execute_input": "2025-03-18T08:42:54.916710Z",
     "iopub.status.busy": "2025-03-18T08:42:54.916486Z",
     "iopub.status.idle": "2025-03-18T20:16:36.725074Z",
     "shell.execute_reply": "2025-03-18T20:16:36.724133Z"
    },
    "papermill": {
     "duration": 41621.816375,
     "end_time": "2025-03-18T20:16:36.730768",
     "exception": false,
     "start_time": "2025-03-18T08:42:54.914393",
     "status": "completed"
    },
    "tags": []
   },
   "outputs": [
    {
     "name": "stdout",
     "output_type": "stream",
     "text": [
      "Epoch [1/50], Train Loss: 0.0412, Validation Loss: 0.0377\n",
      "Model saved at epoch 1 with validation loss: 0.0377\n",
      "Epoch [2/50], Train Loss: 0.0438, Validation Loss: 0.0461\n",
      "Epoch [3/50], Train Loss: 0.0588, Validation Loss: 0.0538\n",
      "Epoch [4/50], Train Loss: 0.0367, Validation Loss: 0.0357\n",
      "Model saved at epoch 4 with validation loss: 0.0357\n",
      "Epoch [5/50], Train Loss: 0.0308, Validation Loss: 0.0303\n",
      "Model saved at epoch 5 with validation loss: 0.0303\n",
      "Epoch [6/50], Train Loss: 0.0182, Validation Loss: 0.0205\n",
      "Model saved at epoch 6 with validation loss: 0.0205\n",
      "Epoch [7/50], Train Loss: 0.0162, Validation Loss: 0.0156\n",
      "Model saved at epoch 7 with validation loss: 0.0156\n",
      "Epoch [8/50], Train Loss: 0.0153, Validation Loss: 0.0155\n",
      "Model saved at epoch 8 with validation loss: 0.0155\n",
      "Epoch [9/50], Train Loss: 0.0179, Validation Loss: 0.0209\n",
      "Epoch [10/50], Train Loss: 0.0161, Validation Loss: 0.0130\n",
      "Model saved at epoch 10 with validation loss: 0.0130\n",
      "Epoch [11/50], Train Loss: 0.0420, Validation Loss: 0.0383\n",
      "Epoch [12/50], Train Loss: 0.0165, Validation Loss: 0.0147\n",
      "Epoch [13/50], Train Loss: 0.0208, Validation Loss: 0.0244\n",
      "Epoch [14/50], Train Loss: 0.0188, Validation Loss: 0.0197\n",
      "Epoch [15/50], Train Loss: 0.0139, Validation Loss: 0.0121\n",
      "Model saved at epoch 15 with validation loss: 0.0121\n",
      "Epoch [16/50], Train Loss: 0.0202, Validation Loss: 0.0189\n",
      "Epoch [17/50], Train Loss: 0.0143, Validation Loss: 0.0128\n",
      "Epoch [18/50], Train Loss: 0.0223, Validation Loss: 0.0235\n",
      "Epoch [19/50], Train Loss: 0.0141, Validation Loss: 0.0140\n",
      "Epoch [20/50], Train Loss: 0.0152, Validation Loss: 0.0158\n",
      "Epoch [21/50], Train Loss: 0.0167, Validation Loss: 0.0172\n",
      "Epoch [22/50], Train Loss: 0.0122, Validation Loss: 0.0142\n",
      "Epoch [23/50], Train Loss: 0.0121, Validation Loss: 0.0116\n",
      "Model saved at epoch 23 with validation loss: 0.0116\n",
      "Epoch [24/50], Train Loss: 0.0138, Validation Loss: 0.0126\n",
      "Epoch [25/50], Train Loss: 0.0148, Validation Loss: 0.0133\n",
      "Epoch [26/50], Train Loss: 0.0284, Validation Loss: 0.0328\n",
      "Epoch [27/50], Train Loss: 0.0112, Validation Loss: 0.0103\n",
      "Model saved at epoch 27 with validation loss: 0.0103\n",
      "Epoch [28/50], Train Loss: 0.0144, Validation Loss: 0.0140\n",
      "Epoch [29/50], Train Loss: 0.0919, Validation Loss: 0.0768\n",
      "Epoch [30/50], Train Loss: 0.0135, Validation Loss: 0.0104\n",
      "Epoch [31/50], Train Loss: 0.0148, Validation Loss: 0.0129\n",
      "Epoch [32/50], Train Loss: 0.0115, Validation Loss: 0.0123\n",
      "Epoch [33/50], Train Loss: 0.0170, Validation Loss: 0.0178\n",
      "Epoch [34/50], Train Loss: 0.0124, Validation Loss: 0.0135\n",
      "Epoch [35/50], Train Loss: 0.0103, Validation Loss: 0.0126\n",
      "Epoch [36/50], Train Loss: 0.0261, Validation Loss: 0.0241\n",
      "Epoch [37/50], Train Loss: 0.0124, Validation Loss: 0.0122\n",
      "Epoch [38/50], Train Loss: 0.0140, Validation Loss: 0.0171\n",
      "Epoch [39/50], Train Loss: 0.0107, Validation Loss: 0.0123\n",
      "Epoch [40/50], Train Loss: 0.0108, Validation Loss: 0.0110\n",
      "Epoch [41/50], Train Loss: 0.0097, Validation Loss: 0.0131\n",
      "Epoch [42/50], Train Loss: 0.0110, Validation Loss: 0.0116\n",
      "Epoch [43/50], Train Loss: 0.0103, Validation Loss: 0.0088\n",
      "Model saved at epoch 43 with validation loss: 0.0088\n",
      "Epoch [44/50], Train Loss: 0.0184, Validation Loss: 0.0130\n",
      "Epoch [45/50], Train Loss: 0.0146, Validation Loss: 0.0142\n",
      "Epoch [46/50], Train Loss: 0.0106, Validation Loss: 0.0101\n",
      "Epoch [47/50], Train Loss: 0.0167, Validation Loss: 0.0214\n",
      "Epoch [48/50], Train Loss: 0.0147, Validation Loss: 0.0172\n",
      "Epoch [49/50], Train Loss: 0.0109, Validation Loss: 0.0081\n",
      "Model saved at epoch 49 with validation loss: 0.0081\n",
      "Epoch [50/50], Train Loss: 0.0114, Validation Loss: 0.0144\n"
     ]
    }
   ],
   "source": [
    "for epoch in range(1, epochs+1):\n",
    "    train(ddpm, vae, train_loader, optimizer, reconstruction_loss_fn, device, betas, T, batch_size)\n",
    "    train_loss = validate(ddpm, vae, train_loader, reconstruction_loss_fn, device, betas, T, batch_size)\n",
    "    val_loss = validate(ddpm, vae, val_loader, reconstruction_loss_fn, device, betas, T, batch_size)\n",
    "    print(f'Epoch [{epoch}/{epochs}], Train Loss: {train_loss:.4f}, Validation Loss: {val_loss:.4f}')\n",
    "\n",
    "    # Сохранение модели, если валидационная потеря улучшилась\n",
    "    if val_loss < best_val_loss:\n",
    "        best_val_loss = val_loss\n",
    "        torch.save(ddpm.state_dict(), best_model_path)\n",
    "        print(f'Model saved at epoch {epoch} with validation loss: {val_loss:.4f}')"
   ]
  }
 ],
 "metadata": {
  "kaggle": {
   "accelerator": "gpu",
   "dataSources": [
    {
     "datasetId": 546691,
     "sourceId": 997012,
     "sourceType": "datasetVersion"
    },
    {
     "isSourceIdPinned": true,
     "modelId": 262486,
     "modelInstanceId": 240841,
     "sourceId": 281095,
     "sourceType": "modelInstanceVersion"
    },
    {
     "isSourceIdPinned": true,
     "modelId": 263786,
     "modelInstanceId": 242152,
     "sourceId": 283691,
     "sourceType": "modelInstanceVersion"
    }
   ],
   "dockerImageVersionId": 30918,
   "isGpuEnabled": true,
   "isInternetEnabled": true,
   "language": "python",
   "sourceType": "notebook"
  },
  "kernelspec": {
   "display_name": "Python 3",
   "language": "python",
   "name": "python3"
  },
  "language_info": {
   "codemirror_mode": {
    "name": "ipython",
    "version": 3
   },
   "file_extension": ".py",
   "mimetype": "text/x-python",
   "name": "python",
   "nbconvert_exporter": "python",
   "pygments_lexer": "ipython3",
   "version": "3.10.12"
  },
  "papermill": {
   "default_parameters": {},
   "duration": 41644.602712,
   "end_time": "2025-03-18T20:16:38.995698",
   "environment_variables": {},
   "exception": null,
   "input_path": "__notebook__.ipynb",
   "output_path": "__notebook__.ipynb",
   "parameters": {},
   "start_time": "2025-03-18T08:42:34.392986",
   "version": "2.6.0"
  }
 },
 "nbformat": 4,
 "nbformat_minor": 5
}
